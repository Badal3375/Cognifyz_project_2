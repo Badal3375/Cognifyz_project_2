{
  "cells": [
    {
      "cell_type": "markdown",
      "metadata": {
        "id": "view-in-github",
        "colab_type": "text"
      },
      "source": [
        "<a href=\"https://colab.research.google.com/github/Badal3375/Cognifyz_project_2/blob/main/Copy_of_Welcome_To_Colab.ipynb\" target=\"_parent\"><img src=\"https://colab.research.google.com/assets/colab-badge.svg\" alt=\"Open In Colab\"/></a>"
      ]
    },
    {
      "cell_type": "markdown",
      "source": [
        "# *** LEVEL 2 ***"
      ],
      "metadata": {
        "id": "e10LRCr2XWob"
      }
    },
    {
      "cell_type": "markdown",
      "source": [
        "## TASK 1"
      ],
      "metadata": {
        "id": "0LfBNakgXeUn"
      }
    },
    {
      "cell_type": "code",
      "source": [
        "import numpy as np"
      ],
      "metadata": {
        "id": "VvkGr_HhXt-p"
      },
      "execution_count": null,
      "outputs": []
    },
    {
      "cell_type": "code",
      "source": [
        "import pandas as pd\n",
        "import matplotlib.pyplot as plt\n",
        "import seaborn as sns"
      ],
      "metadata": {
        "id": "LkQSb1zCXx-P"
      },
      "execution_count": null,
      "outputs": []
    },
    {
      "cell_type": "code",
      "source": [
        "df=pd.read_csv('/content/Dataset .csv')"
      ],
      "metadata": {
        "id": "BS9juQlIX36E"
      },
      "execution_count": null,
      "outputs": []
    },
    {
      "cell_type": "code",
      "source": [
        "df['Has Table booking'] = df['Has Table booking'].str.lower()\n",
        "df['Has Online delivery'] = df['Has Online delivery'].str.lower()\n",
        "\n",
        "# Total number of restaurants\n",
        "total = len(df)\n",
        "\n",
        "# Calculate percentages\n",
        "# Changed 'Has Table Booking' to 'Has Table booking' (lowercase 'b')\n"
      ],
      "metadata": {
        "id": "B0FcV9BIYUVc"
      },
      "execution_count": null,
      "outputs": []
    },
    {
      "cell_type": "code",
      "source": [
        "table_booking_pct = (df['Has Table booking'] == 'yes').sum() / total * 100\n",
        "online_delivery_pct = (df['Has Online delivery'] == 'yes').sum() / total * 100\n",
        "\n",
        "print(f\"Percentage of restaurants with table booking: {table_booking_pct:.2f}%\")\n",
        "print(f\"Percentage of restaurants with online delivery: {online_delivery_pct:.2f}%\")"
      ],
      "metadata": {
        "id": "3sOtsJcWbO1D",
        "outputId": "0824b143-abc0-41a2-8a89-9773df5b2b48",
        "colab": {
          "base_uri": "https://localhost:8080/"
        }
      },
      "execution_count": null,
      "outputs": [
        {
          "output_type": "stream",
          "name": "stdout",
          "text": [
            "Percentage of restaurants with table booking: 12.12%\n",
            "Percentage of restaurants with online delivery: 25.66%\n"
          ]
        }
      ]
    },
    {
      "cell_type": "code",
      "source": [
        "# Filter based on table booking\n",
        "# Use the correct column name 'Has Table booking'\n",
        "with_booking = df[df['Has Table booking'] == 'yes']\n",
        "without_booking = df[df['Has Table booking'] == 'no']\n",
        "\n",
        "# Calculate average ratings\n",
        "avg_rating_with = with_booking['Aggregate rating'].mean()\n",
        "avg_rating_without = without_booking['Aggregate rating'].mean()\n",
        "\n",
        "print(f\"Average rating (with table booking): {avg_rating_with:.2f}\")\n",
        "print(f\"Average rating (without table booking): {avg_rating_without:.2f}\")"
      ],
      "metadata": {
        "id": "Q2QgscoMZiku",
        "outputId": "be9f9fd2-2d87-40f4-f382-efea7d49489d",
        "colab": {
          "base_uri": "https://localhost:8080/"
        }
      },
      "execution_count": null,
      "outputs": [
        {
          "output_type": "stream",
          "name": "stdout",
          "text": [
            "Average rating (with table booking): 3.44\n",
            "Average rating (without table booking): 2.56\n"
          ]
        }
      ]
    },
    {
      "cell_type": "code",
      "source": [
        "# Group by price range and calculate % of restaurants offering online delivery\n",
        "online_delivery_by_price = df.groupby('Price range')['Has Table booking'].apply(\n",
        "    lambda x: (x == 'yes').mean() * 100\n",
        ")\n",
        "\n",
        "# Display results\n",
        "print(\"Online delivery availability by price range:\")\n",
        "print(online_delivery_by_price)"
      ],
      "metadata": {
        "id": "kcB4BqMnaAjd",
        "outputId": "0d92e83e-aaa2-4d3a-a855-6be27fe8486b",
        "colab": {
          "base_uri": "https://localhost:8080/"
        }
      },
      "execution_count": null,
      "outputs": [
        {
          "output_type": "stream",
          "name": "stdout",
          "text": [
            "Online delivery availability by price range:\n",
            "Price range\n",
            "1     0.022502\n",
            "2     7.677482\n",
            "3    45.738636\n",
            "4    46.757679\n",
            "Name: Has Table booking, dtype: float64\n"
          ]
        }
      ]
    },
    {
      "cell_type": "code",
      "source": [
        "import matplotlib.pyplot as plt\n",
        "\n",
        "# Plot for Question 3\n",
        "online_delivery_by_price.plot(kind='bar', color='skyblue')\n",
        "plt.title('Online Delivery Availability by Price Range')\n",
        "plt.xlabel('Price Range')\n",
        "plt.ylabel('Percentage Offering Online Delivery')\n",
        "plt.xticks(rotation=0)\n",
        "plt.tight_layout()\n",
        "plt.show()\n"
      ],
      "metadata": {
        "id": "lyYO35L_agSk",
        "outputId": "760f09ac-49a1-447f-8876-cef6b9b4ca1a",
        "colab": {
          "base_uri": "https://localhost:8080/",
          "height": 487
        }
      },
      "execution_count": null,
      "outputs": [
        {
          "output_type": "display_data",
          "data": {
            "text/plain": [
              "<Figure size 640x480 with 1 Axes>"
            ],
            "image/png": "[encoded data removed]"
          },
          "metadata": {}
        }
      ]
    },
    {
      "cell_type": "code",
      "source": [
        "import matplotlib.pyplot as plt\n",
        "\n",
        "# Plot for Question 3\n",
        "online_delivery_by_price.plot(kind='pie', color='skyblue')\n",
        "plt.title('Online Delivery Availability by Price Range')\n",
        "plt.xlabel('Price Range')\n",
        "plt.ylabel('Percentage Offering Online Delivery')\n",
        "plt.xticks(rotation=0)\n",
        "plt.tight_layout()\n",
        "plt.show()\n"
      ],
      "metadata": {
        "id": "ydL3XSpdamPT",
        "outputId": "853807e9-2514-4f10-a99e-86a9b63acfdc",
        "colab": {
          "base_uri": "https://localhost:8080/",
          "height": 487
        }
      },
      "execution_count": null,
      "outputs": [
        {
          "output_type": "display_data",
          "data": {
            "text/plain": [
              "<Figure size 640x480 with 1 Axes>"
            ],
            "image/png": "[encoded data removed]"
          },
          "metadata": {}
        }
      ]
    },
    {
      "cell_type": "code",
      "source": [
        "import matplotlib.pyplot as plt\n",
        "\n",
        "# Plot for Question 3\n",
        "online_delivery_by_price.plot(kind='hist', color='skyblue')\n",
        "plt.title('Online Delivery Availability by Price Range')\n",
        "plt.xlabel('Price Range')\n",
        "plt.ylabel('Percentage Offering Online Delivery')\n",
        "plt.xticks(rotation=0)\n",
        "plt.tight_layout()\n",
        "plt.show()\n"
      ],
      "metadata": {
        "id": "klSBr7bEaw2-",
        "outputId": "49db5ea1-eaa2-41b5-b73a-57994177a1bd",
        "colab": {
          "base_uri": "https://localhost:8080/",
          "height": 487
        }
      },
      "execution_count": null,
      "outputs": [
        {
          "output_type": "display_data",
          "data": {
            "text/plain": [
              "<Figure size 640x480 with 1 Axes>"
            ],
            "image/png": "[encoded data removed]"
          },
          "metadata": {}
        }
      ]
    },
    {
      "cell_type": "markdown",
      "source": [
        "# ***Task 2 ***"
      ],
      "metadata": {
        "id": "tgHR-8AcbjQq"
      }
    },
    {
      "cell_type": "markdown",
      "source": [
        "*Determine the most common price range among all the restaurants*"
      ],
      "metadata": {
        "id": "mMCjrxbBcJY4"
      }
    },
    {
      "cell_type": "code",
      "source": [
        "# Most common (mode) price range\n",
        "most_common_price_range = df['Price range'].mode()[0]\n",
        "\n",
        "print(f\"Most common price range: {most_common_price_range}\")\n"
      ],
      "metadata": {
        "id": "_3zLdk4obpSz",
        "outputId": "e0a56a63-d117-4ee1-aeb7-dc3b0f38a095",
        "colab": {
          "base_uri": "https://localhost:8080/"
        }
      },
      "execution_count": null,
      "outputs": [
        {
          "output_type": "stream",
          "name": "stdout",
          "text": [
            "Most common price range: 1\n"
          ]
        }
      ]
    },
    {
      "cell_type": "markdown",
      "source": [
        "  *** calculate the average rating for each price*** *"
      ],
      "metadata": {
        "id": "jjIXGGK_cO3n"
      }
    },
    {
      "cell_type": "code",
      "source": [
        "avg_rating_by_price = df.groupby('Price range')['Aggregate rating'].mean()\n",
        "\n",
        "print(\"Average rating by price range:\")\n",
        "print(avg_rating_by_price)\n"
      ],
      "metadata": {
        "id": "_0ZV3mLkcUj3",
        "outputId": "78607ab1-c121-4493-8644-6fac75fa0e7e",
        "colab": {
          "base_uri": "https://localhost:8080/"
        }
      },
      "execution_count": null,
      "outputs": [
        {
          "output_type": "stream",
          "name": "stdout",
          "text": [
            "Average rating by price range:\n",
            "Price range\n",
            "1    1.999887\n",
            "2    2.941054\n",
            "3    3.683381\n",
            "4    3.817918\n",
            "Name: Aggregate rating, dtype: float64\n"
          ]
        }
      ]
    },
    {
      "cell_type": "code",
      "source": [
        "# Group by price range and get average rating and rating color\n",
        "grouped = df.groupby('Price range').agg({\n",
        "    'Aggregate rating': 'mean',\n",
        "    'Rating color': lambda x: x.mode()[0]  # most common color in the group\n",
        "})\n",
        "\n",
        "# Find price range with highest average rating\n",
        "highest_avg_rating = grouped['Aggregate rating'].idxmax()\n",
        "highest_color = grouped.loc[highest_avg_rating, 'Rating color']\n",
        "\n",
        "print(f\"The color representing the highest average rating is: {highest_color}\")\n"
      ],
      "metadata": {
        "id": "c_ng_uK3c9QA",
        "outputId": "3959f6fe-d001-4e09-ada2-c46cee7b1169",
        "colab": {
          "base_uri": "https://localhost:8080/"
        }
      },
      "execution_count": null,
      "outputs": [
        {
          "output_type": "stream",
          "name": "stdout",
          "text": [
            "The color representing the highest average rating is: Yellow\n"
          ]
        }
      ]
    },
    {
      "cell_type": "code",
      "source": [
        "df['Rating color'].max()"
      ],
      "metadata": {
        "id": "Tz4w8jW7dSwI",
        "outputId": "2ddc51f7-8bcc-4c7b-b7e9-b25a430ee7ac",
        "colab": {
          "base_uri": "https://localhost:8080/",
          "height": 35
        }
      },
      "execution_count": null,
      "outputs": [
        {
          "output_type": "execute_result",
          "data": {
            "text/plain": [
              "'Yellow'"
            ],
            "application/vnd.google.colaboratory.intrinsic+json": {
              "type": "string"
            }
          },
          "metadata": {},
          "execution_count": 43
        }
      ]
    },
    {
      "cell_type": "code",
      "source": [
        "df['Rating color'].min()"
      ],
      "metadata": {
        "id": "DnOuCIPKda0h",
        "outputId": "a5aded86-feb3-47f2-a6ab-34a3c42a2c3e",
        "colab": {
          "base_uri": "https://localhost:8080/",
          "height": 35
        }
      },
      "execution_count": null,
      "outputs": [
        {
          "output_type": "execute_result",
          "data": {
            "text/plain": [
              "'Dark Green'"
            ],
            "application/vnd.google.colaboratory.intrinsic+json": {
              "type": "string"
            }
          },
          "metadata": {},
          "execution_count": 44
        }
      ]
    },
    {
      "cell_type": "code",
      "source": [
        "import matplotlib.pyplot as plt\n",
        "\n",
        "# Plot average rating by price range\n",
        "avg_rating_by_price.plot(kind='bar', color='orange') # Removed the trailing space\n",
        "plt.title('Average Rating by Price Range')\n",
        "plt.xlabel('Price Range')\n",
        "plt.ylabel('Average Rating')\n",
        "plt.xticks(rotation=0)\n",
        "plt.tight_layout()\n",
        "plt.show()"
      ],
      "metadata": {
        "id": "s88ES95tdfoG",
        "outputId": "025a0c56-c66c-4230-dcdb-05e0aecb0680",
        "colab": {
          "base_uri": "https://localhost:8080/",
          "height": 487
        }
      },
      "execution_count": null,
      "outputs": [
        {
          "output_type": "display_data",
          "data": {
            "text/plain": [
              "<Figure size 640x480 with 1 Axes>"
            ],
            "image/png": "[encoded data removed]"
          },
          "metadata": {}
        }
      ]
    },
    {
      "cell_type": "markdown",
      "source": [
        "# ***Task -3 ***"
      ],
      "metadata": {
        "id": "DBXPkH5CevWE"
      }
    },
    {
      "cell_type": "code",
      "source": [
        "df.head(1)"
      ],
      "metadata": {
        "id": "3Y_D0A5OfJyp",
        "outputId": "3098b389-0448-414b-fa29-cc5cf6b628ec",
        "colab": {
          "base_uri": "https://localhost:8080/",
          "height": 269
        }
      },
      "execution_count": null,
      "outputs": [
        {
          "output_type": "execute_result",
          "data": {
            "text/plain": [
              "   Restaurant ID   Restaurant Name  Country Code         City  \\\n",
              "0        6317637  Le Petit Souffle           162  Makati City   \n",
              "\n",
              "                                             Address  \\\n",
              "0  Third Floor, Century City Mall, Kalayaan Avenu...   \n",
              "\n",
              "                                    Locality  \\\n",
              "0  Century City Mall, Poblacion, Makati City   \n",
              "\n",
              "                                    Locality Verbose   Longitude   Latitude  \\\n",
              "0  Century City Mall, Poblacion, Makati City, Mak...  121.027535  14.565443   \n",
              "\n",
              "                     Cuisines  ...  Has Table booking Has Online delivery  \\\n",
              "0  French, Japanese, Desserts  ...                yes                  no   \n",
              "\n",
              "  Is delivering now Switch to order menu Price range Aggregate rating  \\\n",
              "0                No                   No           3              4.8   \n",
              "\n",
              "   Rating color  Rating text Votes name_length  \n",
              "0    Dark Green    Excellent   314          16  \n",
              "\n",
              "[1 rows x 22 columns]"
            ],
            "text/html": [
              "\n",
              "  <div id=\"df-27a8bd6d-5527-4d2f-b0d0-d9215c0ead54\" class=\"colab-df-container\">\n",
              "    <div>\n",
              "<style scoped>\n",
              "    .dataframe tbody tr th:only-of-type {\n",
              "        vertical-align: middle;\n",
              "    }\n",
              "\n",
              "    .dataframe tbody tr th {\n",
              "        vertical-align: top;\n",
              "    }\n",
              "\n",
              "    .dataframe thead th {\n",
              "        text-align: right;\n",
              "    }\n",
              "</style>\n",
              "<table border=\"1\" class=\"dataframe\">\n",
              "  <thead>\n",
              "    <tr style=\"text-align: right;\">\n",
              "      <th></th>\n",
              "      <th>Restaurant ID</th>\n",
              "      <th>Restaurant Name</th>\n",
              "      <th>Country Code</th>\n",
              "      <th>City</th>\n",
              "      <th>Address</th>\n",
              "      <th>Locality</th>\n",
              "      <th>Locality Verbose</th>\n",
              "      <th>Longitude</th>\n",
              "      <th>Latitude</th>\n",
              "      <th>Cuisines</th>\n",
              "      <th>...</th>\n",
              "      <th>Has Table booking</th>\n",
              "      <th>Has Online delivery</th>\n",
              "      <th>Is delivering now</th>\n",
              "      <th>Switch to order menu</th>\n",
              "      <th>Price range</th>\n",
              "      <th>Aggregate rating</th>\n",
              "      <th>Rating color</th>\n",
              "      <th>Rating text</th>\n",
              "      <th>Votes</th>\n",
              "      <th>name_length</th>\n",
              "    </tr>\n",
              "  </thead>\n",
              "  <tbody>\n",
              "    <tr>\n",
              "      <th>0</th>\n",
              "      <td>6317637</td>\n",
              "      <td>Le Petit Souffle</td>\n",
              "      <td>162</td>\n",
              "      <td>Makati City</td>\n",
              "      <td>Third Floor, Century City Mall, Kalayaan Avenu...</td>\n",
              "      <td>Century City Mall, Poblacion, Makati City</td>\n",
              "      <td>Century City Mall, Poblacion, Makati City, Mak...</td>\n",
              "      <td>121.027535</td>\n",
              "      <td>14.565443</td>\n",
              "      <td>French, Japanese, Desserts</td>\n",
              "      <td>...</td>\n",
              "      <td>yes</td>\n",
              "      <td>no</td>\n",
              "      <td>No</td>\n",
              "      <td>No</td>\n",
              "      <td>3</td>\n",
              "      <td>4.8</td>\n",
              "      <td>Dark Green</td>\n",
              "      <td>Excellent</td>\n",
              "      <td>314</td>\n",
              "      <td>16</td>\n",
              "    </tr>\n",
              "  </tbody>\n",
              "</table>\n",
              "<p>1 rows × 22 columns</p>\n",
              "</div>\n",
              "    <div class=\"colab-df-buttons\">\n",
              "\n",
              "  <div class=\"colab-df-container\">\n",
              "    <button class=\"colab-df-convert\" onclick=\"convertToInteractive('df-27a8bd6d-5527-4d2f-b0d0-d9215c0ead54')\"\n",
              "            title=\"Convert this dataframe to an interactive table.\"\n",
              "            style=\"display:none;\">\n",
              "\n",
              "  <svg xmlns=\"http://www.w3.org/2000/svg\" height=\"24px\" viewBox=\"0 -960 960 960\">\n",
              "    <path d=\"M120-120v-720h720v720H120Zm60-500h600v-160H180v160Zm220 220h160v-160H400v160Zm0 220h160v-160H400v160ZM180-400h160v-160H180v160Zm440 0h160v-160H620v160ZM180-180h160v-160H180v160Zm440 0h160v-160H620v160Z\"/>\n",
              "  </svg>\n",
              "    </button>\n",
              "\n",
              "  <style>\n",
              "    .colab-df-container {\n",
              "      display:flex;\n",
              "      gap: 12px;\n",
              "    }\n",
              "\n",
              "    .colab-df-convert {\n",
              "      background-color: #E8F0FE;\n",
              "      border: none;\n",
              "      border-radius: 50%;\n",
              "      cursor: pointer;\n",
              "      display: none;\n",
              "      fill: #1967D2;\n",
              "      height: 32px;\n",
              "      padding: 0 0 0 0;\n",
              "      width: 32px;\n",
              "    }\n",
              "\n",
              "    .colab-df-convert:hover {\n",
              "      background-color: #E2EBFA;\n",
              "      box-shadow: 0px 1px 2px rgba(60, 64, 67, 0.3), 0px 1px 3px 1px rgba(60, 64, 67, 0.15);\n",
              "      fill: #174EA6;\n",
              "    }\n",
              "\n",
              "    .colab-df-buttons div {\n",
              "      margin-bottom: 4px;\n",
              "    }\n",
              "\n",
              "    [theme=dark] .colab-df-convert {\n",
              "      background-color: #3B4455;\n",
              "      fill: #D2E3FC;\n",
              "    }\n",
              "\n",
              "    [theme=dark] .colab-df-convert:hover {\n",
              "      background-color: #434B5C;\n",
              "      box-shadow: 0px 1px 3px 1px rgba(0, 0, 0, 0.15);\n",
              "      filter: drop-shadow(0px 1px 2px rgba(0, 0, 0, 0.3));\n",
              "      fill: #FFFFFF;\n",
              "    }\n",
              "  </style>\n",
              "\n",
              "    <script>\n",
              "      const buttonEl =\n",
              "        document.querySelector('#df-27a8bd6d-5527-4d2f-b0d0-d9215c0ead54 button.colab-df-convert');\n",
              "      buttonEl.style.display =\n",
              "        google.colab.kernel.accessAllowed ? 'block' : 'none';\n",
              "\n",
              "      async function convertToInteractive(key) {\n",
              "        const element = document.querySelector('#df-27a8bd6d-5527-4d2f-b0d0-d9215c0ead54');\n",
              "        const dataTable =\n",
              "          await google.colab.kernel.invokeFunction('convertToInteractive',\n",
              "                                                    [key], {});\n",
              "        if (!dataTable) return;\n",
              "\n",
              "        const docLinkHtml = 'Like what you see? Visit the ' +\n",
              "          '<a target=\"_blank\" href=https://colab.research.google.com/notebooks/data_table.ipynb>data table notebook</a>'\n",
              "          + ' to learn more about interactive tables.';\n",
              "        element.innerHTML = '';\n",
              "        dataTable['output_type'] = 'display_data';\n",
              "        await google.colab.output.renderOutput(dataTable, element);\n",
              "        const docLink = document.createElement('div');\n",
              "        docLink.innerHTML = docLinkHtml;\n",
              "        element.appendChild(docLink);\n",
              "      }\n",
              "    </script>\n",
              "  </div>\n",
              "\n",
              "\n",
              "    </div>\n",
              "  </div>\n"
            ],
            "application/vnd.google.colaboratory.intrinsic+json": {
              "type": "dataframe",
              "variable_name": "df"
            }
          },
          "metadata": {},
          "execution_count": 56
        }
      ]
    },
    {
      "cell_type": "code",
      "source": [
        "# Print the column names to check for the correct restaurant name column\n",
        "print(df.columns)\n",
        "\n",
        "# Based on the likely column name, replace 'restaurant_name' with the correct name from the output above.\n",
        "# For example, if the column is named 'Restaurant Name', change the code to:\n",
        "# df['name_length'] = df['Restaurant Name'].astype(str).apply(len)\n",
        "\n",
        "# Assuming the column name is 'Restaurant Name' (with spaces and capitalization), the corrected code is:\n",
        "df['name_length'] = df['Restaurant Name'].astype(str).apply(len)\n",
        "\n",
        "# Feature: Length of address\n",
        "df['address_length'] = df['Address'].astype(str).apply(len)\n",
        "\n",
        "# Feature: Number of cuisines listed\n",
        "df['num_cuisines'] = df['Cuisines'].astype(str).apply(lambda x: len(x.split(',')))\n",
        "\n",
        "print(df[['Restaurant Name', 'name_length', 'address_length', 'num_cuisines']].head())"
      ],
      "metadata": {
        "id": "v5W_B8ILe-u6",
        "outputId": "caee74be-5b6b-4596-e24e-bca62244b2bc",
        "colab": {
          "base_uri": "https://localhost:8080/"
        }
      },
      "execution_count": null,
      "outputs": [
        {
          "output_type": "stream",
          "name": "stdout",
          "text": [
            "Index(['Restaurant ID', 'Restaurant Name', 'Country Code', 'City', 'Address',\n",
            "       'Locality', 'Locality Verbose', 'Longitude', 'Latitude', 'Cuisines',\n",
            "       'Average Cost for two', 'Currency', 'Has Table booking',\n",
            "       'Has Online delivery', 'Is delivering now', 'Switch to order menu',\n",
            "       'Price range', 'Aggregate rating', 'Rating color', 'Rating text',\n",
            "       'Votes', 'name_length', 'address_length', 'num_cuisines'],\n",
            "      dtype='object')\n",
            "          Restaurant Name  name_length  address_length  num_cuisines\n",
            "0        Le Petit Souffle           16              71             3\n",
            "1        Izakaya Kikufuji           16              67             1\n",
            "2  Heat - Edsa Shangri-La           22              56             4\n",
            "3                    Ooma            4              70             2\n",
            "4             Sambo Kojin           11              64             2\n"
          ]
        }
      ]
    },
    {
      "cell_type": "code",
      "source": [
        "# Encode 'has_table_booking' and 'has_online_delivery' into binary\n",
        "df[' Is delivering now'] = df['Is delivering now'].str.lower().map({'yes': 1, 'no': 0})\n",
        "df['  Has Online delivery'] = df['Has Online delivery'].str.lower().map({'yes': 1, 'no': 0})\n",
        "\n",
        "# Handle any missing values (if applicable)\n",
        "df[' Is delivering now'] = df['Is delivering now'].fillna(0)\n",
        "df['Has Online delivery'] = df['Has Online delivery'].fillna(0)\n",
        "\n",
        "print(df[[' Is delivering now', 'Has Online delivery', ' Is delivering now', 'Has Online delivery']].head(10))\n"
      ],
      "metadata": {
        "id": "WYbTmA7QfpYj",
        "outputId": "fa18c7bd-81cf-45aa-8da1-a2a7d4fc9126",
        "colab": {
          "base_uri": "https://localhost:8080/"
        }
      },
      "execution_count": null,
      "outputs": [
        {
          "output_type": "stream",
          "name": "stdout",
          "text": [
            "   Is delivering now Has Online delivery  Is delivering now  \\\n",
            "0                 No                  no                 No   \n",
            "1                 No                  no                 No   \n",
            "2                 No                  no                 No   \n",
            "3                 No                  no                 No   \n",
            "4                 No                  no                 No   \n",
            "5                 No                  no                 No   \n",
            "6                 No                  no                 No   \n",
            "7                 No                  no                 No   \n",
            "8                 No                  no                 No   \n",
            "9                 No                  no                 No   \n",
            "\n",
            "  Has Online delivery  \n",
            "0                  no  \n",
            "1                  no  \n",
            "2                  no  \n",
            "3                  no  \n",
            "4                  no  \n",
            "5                  no  \n",
            "6                  no  \n",
            "7                  no  \n",
            "8                  no  \n",
            "9                  no  \n"
          ]
        }
      ]
    },
    {
      "cell_type": "code",
      "source": [
        "# One-hot encode price_range\n",
        "df = pd.get_dummies(df, columns=['Price range'], prefix='price')\n",
        "\n",
        "# One-hot encode rating color\n",
        "df = pd.get_dummies(df, columns=['Rating color'], prefix='color')\n",
        "\n",
        "# View new columns\n",
        "print(df.head())\n"
      ],
      "metadata": {
        "id": "HqmdUrc8glAt",
        "outputId": "fee6722b-6ad4-4f90-ab36-eb8500f2c34e",
        "colab": {
          "base_uri": "https://localhost:8080/"
        }
      },
      "execution_count": null,
      "outputs": [
        {
          "output_type": "stream",
          "name": "stdout",
          "text": [
            "   Restaurant ID         Restaurant Name  Country Code              City  \\\n",
            "0        6317637        Le Petit Souffle           162       Makati City   \n",
            "1        6304287        Izakaya Kikufuji           162       Makati City   \n",
            "2        6300002  Heat - Edsa Shangri-La           162  Mandaluyong City   \n",
            "3        6318506                    Ooma           162  Mandaluyong City   \n",
            "4        6314302             Sambo Kojin           162  Mandaluyong City   \n",
            "\n",
            "                                             Address  \\\n",
            "0  Third Floor, Century City Mall, Kalayaan Avenu...   \n",
            "1  Little Tokyo, 2277 Chino Roces Avenue, Legaspi...   \n",
            "2  Edsa Shangri-La, 1 Garden Way, Ortigas, Mandal...   \n",
            "3  Third Floor, Mega Fashion Hall, SM Megamall, O...   \n",
            "4  Third Floor, Mega Atrium, SM Megamall, Ortigas...   \n",
            "\n",
            "                                     Locality  \\\n",
            "0   Century City Mall, Poblacion, Makati City   \n",
            "1  Little Tokyo, Legaspi Village, Makati City   \n",
            "2  Edsa Shangri-La, Ortigas, Mandaluyong City   \n",
            "3      SM Megamall, Ortigas, Mandaluyong City   \n",
            "4      SM Megamall, Ortigas, Mandaluyong City   \n",
            "\n",
            "                                    Locality Verbose   Longitude   Latitude  \\\n",
            "0  Century City Mall, Poblacion, Makati City, Mak...  121.027535  14.565443   \n",
            "1  Little Tokyo, Legaspi Village, Makati City, Ma...  121.014101  14.553708   \n",
            "2  Edsa Shangri-La, Ortigas, Mandaluyong City, Ma...  121.056831  14.581404   \n",
            "3  SM Megamall, Ortigas, Mandaluyong City, Mandal...  121.056475  14.585318   \n",
            "4  SM Megamall, Ortigas, Mandaluyong City, Mandal...  121.057508  14.584450   \n",
            "\n",
            "                           Cuisines  ...  price_1 price_2 price_3 price_4  \\\n",
            "0        French, Japanese, Desserts  ...    False   False    True   False   \n",
            "1                          Japanese  ...    False   False    True   False   \n",
            "2  Seafood, Asian, Filipino, Indian  ...    False   False   False    True   \n",
            "3                   Japanese, Sushi  ...    False   False   False    True   \n",
            "4                  Japanese, Korean  ...    False   False   False    True   \n",
            "\n",
            "  color_Dark Green color_Green  color_Orange color_Red  color_White  \\\n",
            "0             True       False         False     False        False   \n",
            "1             True       False         False     False        False   \n",
            "2            False        True         False     False        False   \n",
            "3             True       False         False     False        False   \n",
            "4             True       False         False     False        False   \n",
            "\n",
            "   color_Yellow  \n",
            "0         False  \n",
            "1         False  \n",
            "2         False  \n",
            "3         False  \n",
            "4         False  \n",
            "\n",
            "[5 rows x 34 columns]\n"
          ]
        }
      ]
    }
  ],
  "metadata": {
    "colab": {
      "provenance": [],
      "include_colab_link": true
    },
    "kernelspec": {
      "display_name": "Python 3",
      "name": "python3"
    }
  },
  "nbformat": 4,
  "nbformat_minor": 0
}